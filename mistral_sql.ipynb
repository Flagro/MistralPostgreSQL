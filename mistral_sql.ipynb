{
 "cells": [
  {
   "cell_type": "code",
   "execution_count": 1,
   "id": "92ea29cc",
   "metadata": {
    "cellId": "s8rzxzj9yhjr64pgosoo18"
   },
   "outputs": [],
   "source": [
    "#!g2.1\n",
    "# %pip install optimum\n",
    "# %pip install git+https://github.com/huggingface/transformers.git@72958fcd3c98a7afdc61f953aa58c544ebda2f79\n",
    "# %pip install auto-gptq --extra-index-url https://huggingface.github.io/autogptq-index/whl/cu118/  # Use cu117 if on CUDA 11.7\n",
    "    \n",
    "# %pip install langchain --upgrade\n",
    "# %pip install langchain_experimental --upgrade\n",
    "\n",
    "# %pip install python-dotenv\n",
    "\n",
    "# !mkdir Mistral-7B-Instruct-v0.1-GPTQ\n",
    "# !git clone --single-branch --branch gptq-4bit-32g-actorder_True https://huggingface.co/TheBloke/Mistral-7B-Instruct-v0.1-GPTQ"
   ]
  },
  {
   "cell_type": "code",
   "execution_count": 2,
   "id": "12c719fd",
   "metadata": {
    "cellId": "kbkuvnljpm5rkiwad6t8q"
   },
   "outputs": [],
   "source": [
    "#!g2.1\n",
    "few_shots_string = \"\"\"\n",
    "<s>[INST] You are a helpful bot.\n",
    "You are given the question, the context that contains the answer to the question, and a Database Schema.\n",
    "Your task is to translate a question into a PostgreSQL query based on the context and the Database Schema, with interleaving Thought and Response steps.\n",
    "Your goal is not to answer the question but to create a PostgreSQL query, that is going to select the necessary data that will help to answer the question.\n",
    "Please wrap your code answer using ```\n",
    "\n",
    "In order to complete the task, follow the guidelines:\n",
    "Question: [QUESTION]\n",
    "Context: [CONTEXT]\n",
    "Database Schema: [DATABASE SCHEMA]\n",
    "###\n",
    "Thought: I need to read the given question and context, and decide, what information might help to answer the question.\n",
    "Response: [BOT RESPONSE]\n",
    "###\n",
    "Thought: I know what information might help to answer the question. Now I need to get features in the provided Database Schema, that correspond to the information that might help to answer the question.\n",
    "Response: [BOT RESPONSE]\n",
    "###\n",
    "Thought: I know what information is needed, I know what features in the Database correspond to this information and now I need to decide, what I need to Select from the database\n",
    "Response: [BOT RESPONSE]\n",
    "###\n",
    "Thought: Now I understand what I need to Select from the database, here is the PostgreSQL query:\n",
    "Response: [BOT RESPONSE] \n",
    "\n",
    "Here is an example of how you should act:\n",
    "\n",
    "Question: What is my ideal weight? My ID is 212\n",
    "Context: Adults (26 to 65 years) should sleep from 7 to 9 hours. Teenagers (17 to 25) should sleep from 8 to 10 hours. * For men:\n",
    "+ Under 5'5\" (165 cm): 130-154 lbs (59-70 kg)\n",
    "+ 5'5\"-5'9\" (165-175 cm): 140-163 lbs (64-74 kg)\n",
    "+ 6'0\"-6'3\" (183-191 cm): 154-181 lbs (70-83 kg)\n",
    "+ Over 6'3\" (191 cm): 163-190 lbs (74-86 kg)\n",
    "* For women:\n",
    "+ Under 5'5\" (165 cm): 115-139 lbs (52-63 kg)\n",
    "+ 5'5\"-5'9\" (165-175 cm): 125-147 lbs (57-66 kg)\n",
    "Database Schema: CREATE TABLE user_info (id INT PRIMARY KEY, age INT, gender VARCHAR(10), height FLOAT, weight FLOAT, sleep_duration_hours FLOAT, sleep_quality_rating INT, bedtime TIMESTAMP, wake_up_time TIMESTAMP);\n",
    "###\n",
    "Thought: I need to read the given question and context, and decide, what information might help to answer the question.\n",
    "Response: It seems that the ideal weight for a person depends on gender, height, and weight.\n",
    "###\n",
    "Thought: I know what information might help to answer the question. Now I need to get features in the provided Database Schema, that correspond to the information that might help to answer the question.\n",
    "Response: Feature 'gender' in the table, user_info corresponds to a person's gender, feature 'height' corresponds to a person's height, and feature 'weight' corresponds to a person's weight\n",
    "###\n",
    "Thought: I know what information is needed, I know what features in the Database correspond to this information and now I need to decide, what I need to Select from the database\n",
    "Response: I need to select 'gender', 'height', and 'weight' features for a person with ID=212\n",
    "###\n",
    "Thought: Now I understand what I need to Select from the database, I must write a PostgreSQL query.\n",
    "Response: SELECT gender, height, weight FROM user_info WHERE id = 212; [/INST]\n",
    "\n",
    "Question: {question}\n",
    "Context: {context}\n",
    "Database Schema: {table}\n",
    "###1\n",
    "\"\"\""
   ]
  },
  {
   "cell_type": "code",
   "execution_count": 3,
   "id": "1a1fadbf",
   "metadata": {
    "cellId": "2ndp8f90yt54ge71f44zwd"
   },
   "outputs": [
    {
     "data": {
      "text/plain": [
       "['film_actor',\n",
       " 'address',\n",
       " 'city',\n",
       " 'actor',\n",
       " 'category',\n",
       " 'country',\n",
       " 'customer',\n",
       " 'film',\n",
       " 'film_category',\n",
       " 'inventory',\n",
       " 'language',\n",
       " 'rental',\n",
       " 'staff',\n",
       " 'payment',\n",
       " 'store',\n",
       " 'payment_p2022_07',\n",
       " 'payment_p2022_02',\n",
       " 'payment_p2022_03',\n",
       " 'payment_p2022_04',\n",
       " 'payment_p2022_05',\n",
       " 'payment_p2022_01',\n",
       " 'payment_p2022_06']"
      ]
     },
     "execution_count": 3,
     "metadata": {},
     "output_type": "execute_result"
    }
   ],
   "source": [
    "#!g2.1\n",
    "from sqlalchemy import create_engine, text, inspect, types\n",
    "import pandas as pd\n",
    "from decimal import Decimal\n",
    "from dotenv import load_dotenv\n",
    "import os\n",
    "\n",
    "load_dotenv()\n",
    "\n",
    "# PostgreSQL connection parameters\n",
    "params = {\n",
    "    'dbname': 'pagila',\n",
    "    'user': 'postgres',\n",
    "    'password': os.environ.get(\"postgres_password\"),\n",
    "    'host': os.environ.get(\"postgres_host\"),\n",
    "    'port': 5432\n",
    "}\n",
    "\n",
    "# Create an SQLAlchemy engine\n",
    "\n",
    "db_url = 'postgresql://{}:{}@{}:{}/{}'.format(\n",
    "    params['user'],\n",
    "    params['password'],\n",
    "    params['host'],\n",
    "    params['port'],\n",
    "    params['dbname']\n",
    ")\n",
    "\n",
    "postgres_engine = create_engine(db_url)\n",
    "\n",
    "# Get list of all tables in PostgreSQL database\n",
    "inspector = inspect(postgres_engine)\n",
    "inspector.get_table_names()"
   ]
  },
  {
   "cell_type": "code",
   "execution_count": 4,
   "id": "f670ccff",
   "metadata": {
    "cellId": "ae18w0yv4w6dz6elnx1u1q"
   },
   "outputs": [
    {
     "data": {
      "text/plain": [
       "'CREATE TABLE actor (actor_id SERIAL NOT NULL, first_name TEXT NOT NULL, last_name TEXT NOT NULL, last_update TIMESTAMP WITH TIME ZONE DEFAULT now() NOT NULL, CONSTRAINT actor_pkey PRIMARY KEY (actor_id))'"
      ]
     },
     "execution_count": 4,
     "metadata": {},
     "output_type": "execute_result"
    }
   ],
   "source": [
    "#!g2.1\n",
    "from sqlalchemy import create_engine, MetaData, Table\n",
    "from sqlalchemy.schema import CreateTable\n",
    "import psycopg2\n",
    "\n",
    "def get_create_table_statement(engine, table_name):\n",
    "    \"\"\"\n",
    "    Get the CREATE TABLE statement for a specific table from the PostgreSQL database using SQLAlchemy.\n",
    "\n",
    "    Parameters:\n",
    "        engine (sqlalchemy.engine.Engine): The SQLAlchemy engine object.\n",
    "        table_name (str): The name of the table.\n",
    "\n",
    "    Returns:\n",
    "        str: The CREATE TABLE statement, or None if the table does not exist.\n",
    "    \"\"\"\n",
    "    metadata = MetaData()\n",
    "    metadata.bind = engine\n",
    "    \n",
    "    # Reflect the table\n",
    "    try:\n",
    "        table = Table(table_name, metadata, autoload_with=engine)\n",
    "    except (KeyError, psycopg2.errors.UndefinedTable):\n",
    "        # Table does not exist\n",
    "        return None\n",
    "    \n",
    "    # Get the CREATE TABLE statement\n",
    "    create_table_statement = str(CreateTable(table).compile(engine))\n",
    "    \n",
    "    return create_table_statement.replace(\"\\n\", \"\").replace(\"\\t\", \"\")\n",
    "\n",
    "get_create_table_statement(postgres_engine, \"actor\")"
   ]
  },
  {
   "cell_type": "code",
   "execution_count": 5,
   "id": "84f9bdf5",
   "metadata": {
    "cellId": "sub8ncmynk1e2mu8klh5j"
   },
   "outputs": [
    {
     "name": "stderr",
     "output_type": "stream",
     "text": [
      "2023-10-11 01:26:58.702588: W tensorflow/compiler/tf2tensorrt/utils/py_utils.cc:38] TF-TRT Warning: Could not find TensorRT\n",
      "Special tokens have been added in the vocabulary, make sure the associated word embeddings are fine-tuned or trained.\n",
      "You passed `quantization_config` to `from_pretrained` but the model you're loading already has a `quantization_config` attribute and has already quantized weights. However, loading attributes (e.g. disable_exllama, use_cuda_fp16, max_input_length) will be overwritten with the one you passed to `from_pretrained`. The rest will be ignored.\n"
     ]
    }
   ],
   "source": [
    "#!g2.1\n",
    "from langchain.utilities import SQLDatabase\n",
    "from langchain.llms import HuggingFacePipeline\n",
    "from langchain.prompts import PromptTemplate\n",
    "from langchain_experimental.sql import SQLDatabaseChain\n",
    "from transformers import AutoModelForCausalLM, AutoTokenizer, pipeline, GPTQConfig\n",
    "\n",
    "model_name_or_path = \"Mistral-7B-local\"\n",
    "\n",
    "tokenizer = AutoTokenizer.from_pretrained(model_name_or_path, use_fast=True)\n",
    "\n",
    "quantization_config = GPTQConfig(bits=4, tokenizer=tokenizer, disable_exllama=True)\n",
    "\n",
    "model = AutoModelForCausalLM.from_pretrained(model_name_or_path,\n",
    "                                             device_map=\"auto\",\n",
    "                                             trust_remote_code=False,\n",
    "                                             revision=\"main\",\n",
    "                                             quantization_config=quantization_config)\n",
    "\n",
    "pipe = pipeline(\n",
    "   \"text-generation\",\n",
    "    model=model,\n",
    "    tokenizer=tokenizer,\n",
    "    max_new_tokens=512,\n",
    "    do_sample=True,\n",
    "    temperature=0.7,\n",
    "    top_p=0.95,\n",
    "    top_k=40,\n",
    "    repetition_penalty=1.1\n",
    ")\n",
    "\n",
    "db = SQLDatabase(postgres_engine, include_tables=[\"film\", \"actor\"])\n",
    "\n",
    "llm = HuggingFacePipeline(pipeline=pipe)\n",
    "\n",
    "prompt = PromptTemplate.from_template(few_shots_string)\n",
    "\n",
    "db_chain = SQLDatabaseChain.from_llm(llm, db, verbose=True)"
   ]
  },
  {
   "cell_type": "code",
   "execution_count": 6,
   "id": "73e926f7",
   "metadata": {
    "cellId": "niz9j5o2agd47hqqu3ih3"
   },
   "outputs": [
    {
     "name": "stdout",
     "output_type": "stream",
     "text": [
      "\n",
      "\n",
      "\u001b[1m> Entering new SQLDatabaseChain chain...\u001b[0m\n",
      "\n",
      "<s>[INST] You are a helpful bot.\n",
      "You are given the question, the context that contains the answer to the question, and a Database Schema.\n",
      "Your task is to translate a question into a PostgreSQL query based on the context and the Database Schema, with interleaving Thought and Response steps.\n",
      "Your goal is not to answer the question but to create a PostgreSQL query, that is going to select the necessary data that will help to answer the question.\n",
      "Please wrap your code answer using ```\n",
      "\n",
      "In order to complete the task, follow the guidelines:\n",
      "Question: [QUESTION]\n",
      "Context: [CONTEXT]\n",
      "Database Schema: [DATABASE SCHEMA]\n",
      "###\n",
      "Thought: I need to read the given question and context, and decide, what information might help to answer the question.\n",
      "Response: [BOT RESPONSE]\n",
      "###\n",
      "Thought: I know what information might help to answer the question. Now I need to get features in the provided Database Schema, that correspond to the information that might help to answer the question.\n",
      "Response: [BOT RESPONSE]\n",
      "###\n",
      "Thought: I know what information is needed, I know what features in the Database correspond to this information and now I need to decide, what I need to Select from the database\n",
      "Response: [BOT RESPONSE]\n",
      "###\n",
      "Thought: Now I understand what I need to Select from the database, here is the PostgreSQL query:\n",
      "Response: [BOT RESPONSE] \n",
      "\n",
      "Here is an example of how you should act:\n",
      "\n",
      "Question: What is my ideal weight? My ID is 212\n",
      "Context: Adults (26 to 65 years) should sleep from 7 to 9 hours. Teenagers (17 to 25) should sleep from 8 to 10 hours. * For men:\n",
      "+ Under 5'5\" (165 cm): 130-154 lbs (59-70 kg)\n",
      "+ 5'5\"-5'9\" (165-175 cm): 140-163 lbs (64-74 kg)\n",
      "+ 6'0\"-6'3\" (183-191 cm): 154-181 lbs (70-83 kg)\n",
      "+ Over 6'3\" (191 cm): 163-190 lbs (74-86 kg)\n",
      "* For women:\n",
      "+ Under 5'5\" (165 cm): 115-139 lbs (52-63 kg)\n",
      "+ 5'5\"-5'9\" (165-175 cm): 125-147 lbs (57-66 kg)\n",
      "Database Schema: CREATE TABLE user_info (id INT PRIMARY KEY, age INT, gender VARCHAR(10), height FLOAT, weight FLOAT, sleep_duration_hours FLOAT, sleep_quality_rating INT, bedtime TIMESTAMP, wake_up_time TIMESTAMP);\n",
      "###\n",
      "Thought: I need to read the given question and context, and decide, what information might help to answer the question.\n",
      "Response: It seems that the ideal weight for a person depends on gender, height, and weight.\n",
      "###\n",
      "Thought: I know what information might help to answer the question. Now I need to get features in the provided Database Schema, that correspond to the information that might help to answer the question.\n",
      "Response: Feature 'gender' in the table, user_info corresponds to a person's gender, feature 'height' corresponds to a person's height, and feature 'weight' corresponds to a person's weight\n",
      "###\n",
      "Thought: I know what information is needed, I know what features in the Database correspond to this information and now I need to decide, what I need to Select from the database\n",
      "Response: I need to select 'gender', 'height', and 'weight' features for a person with ID=212\n",
      "###\n",
      "Thought: Now I understand what I need to Select from the database, I must write a PostgreSQL query.\n",
      "Response: SELECT gender, height, weight FROM user_info WHERE id = 212; [/INST]\n",
      "\n",
      "Question: How many actors are there?\n",
      "Context: Actors play in films\n",
      "Database Schema: CREATE TABLE actor (actor_id SERIAL NOT NULL, first_name TEXT NOT NULL, last_name TEXT NOT NULL, last_update TIMESTAMP WITH TIME ZONE DEFAULT now() NOT NULL, CONSTRAINT actor_pkey PRIMARY KEY (actor_id))\n",
      "###1\n",
      "\n",
      "SQLQuery:"
     ]
    },
    {
     "name": "stderr",
     "output_type": "stream",
     "text": [
      "/home/jupyter/.local/lib/python3.10/site-packages/transformers/generation/utils.py:1421: UserWarning: You have modified the pretrained model configuration to control generation. This is a deprecated strategy to control generation and will be removed soon, in a future version. Please use and modify the model generation configuration (see https://huggingface.co/docs/transformers/generation_strategies#default-text-generation-configuration )\n",
      "  warnings.warn(\n"
     ]
    },
    {
     "name": "stdout",
     "output_type": "stream",
     "text": [
      "\u001b[32;1m\u001b[1;3mSELECT COUNT(*) FROM actor;\u001b[0m\n",
      "SQLResult: \u001b[33;1m\u001b[1;3m[(200,)]\u001b[0m\n",
      "Answer:\u001b[32;1m\u001b[1;3mThere are 200 actors in the database.\n",
      "###\u001b[0m\n",
      "\u001b[1m> Finished chain.\u001b[0m\n",
      "CPU times: user 5.16 s, sys: 434 ms, total: 5.6 s\n",
      "Wall time: 6.43 s\n"
     ]
    },
    {
     "data": {
      "text/plain": [
       "'There are 200 actors in the database.\\n###'"
      ]
     },
     "execution_count": 6,
     "metadata": {},
     "output_type": "execute_result"
    }
   ],
   "source": [
    "#!g2.1\n",
    "\n",
    "%%time\n",
    "db_chain(prompt.format(question=\"How many actors are there?\",\n",
    "                       context=\"Actors play in films\",\n",
    "                       table=get_create_table_statement(postgres_engine, \"actor\")))[\"result\"]"
   ]
  },
  {
   "cell_type": "code",
   "execution_count": 7,
   "id": "6f63f2df",
   "metadata": {
    "cellId": "bbc10kdp89omjm4jqq9ehm"
   },
   "outputs": [
    {
     "name": "stdout",
     "output_type": "stream",
     "text": [
      "\n",
      "\n",
      "\u001b[1m> Entering new SQLDatabaseChain chain...\u001b[0m\n",
      "\n",
      "<s>[INST] You are a helpful bot.\n",
      "You are given the question, the context that contains the answer to the question, and a Database Schema.\n",
      "Your task is to translate a question into a PostgreSQL query based on the context and the Database Schema, with interleaving Thought and Response steps.\n",
      "Your goal is not to answer the question but to create a PostgreSQL query, that is going to select the necessary data that will help to answer the question.\n",
      "Please wrap your code answer using ```\n",
      "\n",
      "In order to complete the task, follow the guidelines:\n",
      "Question: [QUESTION]\n",
      "Context: [CONTEXT]\n",
      "Database Schema: [DATABASE SCHEMA]\n",
      "###\n",
      "Thought: I need to read the given question and context, and decide, what information might help to answer the question.\n",
      "Response: [BOT RESPONSE]\n",
      "###\n",
      "Thought: I know what information might help to answer the question. Now I need to get features in the provided Database Schema, that correspond to the information that might help to answer the question.\n",
      "Response: [BOT RESPONSE]\n",
      "###\n",
      "Thought: I know what information is needed, I know what features in the Database correspond to this information and now I need to decide, what I need to Select from the database\n",
      "Response: [BOT RESPONSE]\n",
      "###\n",
      "Thought: Now I understand what I need to Select from the database, here is the PostgreSQL query:\n",
      "Response: [BOT RESPONSE] \n",
      "\n",
      "Here is an example of how you should act:\n",
      "\n",
      "Question: What is my ideal weight? My ID is 212\n",
      "Context: Adults (26 to 65 years) should sleep from 7 to 9 hours. Teenagers (17 to 25) should sleep from 8 to 10 hours. * For men:\n",
      "+ Under 5'5\" (165 cm): 130-154 lbs (59-70 kg)\n",
      "+ 5'5\"-5'9\" (165-175 cm): 140-163 lbs (64-74 kg)\n",
      "+ 6'0\"-6'3\" (183-191 cm): 154-181 lbs (70-83 kg)\n",
      "+ Over 6'3\" (191 cm): 163-190 lbs (74-86 kg)\n",
      "* For women:\n",
      "+ Under 5'5\" (165 cm): 115-139 lbs (52-63 kg)\n",
      "+ 5'5\"-5'9\" (165-175 cm): 125-147 lbs (57-66 kg)\n",
      "Database Schema: CREATE TABLE user_info (id INT PRIMARY KEY, age INT, gender VARCHAR(10), height FLOAT, weight FLOAT, sleep_duration_hours FLOAT, sleep_quality_rating INT, bedtime TIMESTAMP, wake_up_time TIMESTAMP);\n",
      "###\n",
      "Thought: I need to read the given question and context, and decide, what information might help to answer the question.\n",
      "Response: It seems that the ideal weight for a person depends on gender, height, and weight.\n",
      "###\n",
      "Thought: I know what information might help to answer the question. Now I need to get features in the provided Database Schema, that correspond to the information that might help to answer the question.\n",
      "Response: Feature 'gender' in the table, user_info corresponds to a person's gender, feature 'height' corresponds to a person's height, and feature 'weight' corresponds to a person's weight\n",
      "###\n",
      "Thought: I know what information is needed, I know what features in the Database correspond to this information and now I need to decide, what I need to Select from the database\n",
      "Response: I need to select 'gender', 'height', and 'weight' features for a person with ID=212\n",
      "###\n",
      "Thought: Now I understand what I need to Select from the database, I must write a PostgreSQL query.\n",
      "Response: SELECT gender, height, weight FROM user_info WHERE id = 212; [/INST]\n",
      "\n",
      "Question: How many movies came out in 2006?\n",
      "Context: Actors play in films\n",
      "Database Schema: CREATE TABLE film (film_id SERIAL NOT NULL, title TEXT NOT NULL, description TEXT, release_year INTEGER, language_id INTEGER NOT NULL, original_language_id INTEGER, rental_duration SMALLINT DEFAULT 3 NOT NULL, rental_rate NUMERIC(4, 2) DEFAULT 4.99 NOT NULL, length SMALLINT, replacement_cost NUMERIC(5, 2) DEFAULT 19.99 NOT NULL, rating mpaa_rating DEFAULT 'G'::mpaa_rating, last_update TIMESTAMP WITH TIME ZONE DEFAULT now() NOT NULL, special_features TEXT[], fulltext TSVECTOR NOT NULL, CONSTRAINT film_pkey PRIMARY KEY (film_id), CONSTRAINT film_language_id_fkey FOREIGN KEY(language_id) REFERENCES language (language_id) ON DELETE RESTRICT ON UPDATE CASCADE, CONSTRAINT film_original_language_id_fkey FOREIGN KEY(original_language_id) REFERENCES language (language_id) ON DELETE RESTRICT ON UPDATE CASCADE)\n",
      "###1\n",
      "\n",
      "SQLQuery:\u001b[32;1m\u001b[1;3mSELECT COUNT(*) FROM film WHERE release_year = 2006;\u001b[0m\n",
      "SQLResult: \u001b[33;1m\u001b[1;3m[(1000,)]\u001b[0m\n",
      "Answer:\u001b[32;1m\u001b[1;3m1000 movies came out in 2006\u001b[0m\n",
      "\u001b[1m> Finished chain.\u001b[0m\n",
      "CPU times: user 4.85 s, sys: 654 ms, total: 5.5 s\n",
      "Wall time: 6.77 s\n"
     ]
    },
    {
     "data": {
      "text/plain": [
       "'1000 movies came out in 2006'"
      ]
     },
     "execution_count": 7,
     "metadata": {},
     "output_type": "execute_result"
    }
   ],
   "source": [
    "#!g2.1\n",
    "\n",
    "%%time\n",
    "db_chain(prompt.format(question=\"How many movies came out in 2006?\",\n",
    "                       context=\"Actors play in films\",\n",
    "                       table=get_create_table_statement(postgres_engine, \"film\")))[\"result\"]"
   ]
  },
  {
   "cell_type": "code",
   "execution_count": 8,
   "id": "7cf305f2",
   "metadata": {
    "cellId": "79iv87ctjmua9cxg2imprr"
   },
   "outputs": [],
   "source": [
    "#!g2.1\n"
   ]
  },
  {
   "cell_type": "code",
   "execution_count": null,
   "id": "597efd87",
   "metadata": {
    "cellId": "fm4ugbjutvcoewxq06atai"
   },
   "outputs": [],
   "source": [
    "#!g2.1\n"
   ]
  }
 ],
 "metadata": {
  "language_info": {
   "codemirror_mode": {
    "name": "ipython",
    "version": 3
   },
   "file_extension": ".py",
   "mimetype": "text/x-python",
   "name": "python",
   "nbconvert_exporter": "python",
   "pygments_lexer": "ipython3",
   "version": "3.7.7"
  },
  "notebookId": "03c7e907-2924-40b0-8b55-9455a38290a2",
  "notebookPath": "mistral_sql.ipynb"
 },
 "nbformat": 4,
 "nbformat_minor": 5
}
